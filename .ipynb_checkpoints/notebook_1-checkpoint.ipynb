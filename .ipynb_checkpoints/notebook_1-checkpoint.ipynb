{
 "cells": [
  {
   "cell_type": "markdown",
   "metadata": {},
   "source": [
    "<h2> Data Science for mortals </h2>\n",
    "<p>\n",
    "This notebook aims to guide you throught your first steps in the world of Data Science.\n",
    "<span style=\"color:white\">This is an easter egg</span>\n",
    "<br />\n",
    "The general concept of a Data Science project will be presented. After a brief introduction, the dataset will be presented. The goal of this notebook is to produce insights that will help us better understand the data.\n",
    "</p>\n",
    "<p>\n",
    "The final goal of any Data Science project is to <em>automatically product data from existing data</em> in order to achive a defined goal. \n",
    "</p>\n",
    "\n",
    "<p>\n",
    "The figure below shows how a typical data science project evolves. \n",
    "</p>\n",
    "<img src=\"https://www.mcgill.ca/datascience/files/datascience/styles/wysiwyg_extra_large/public/steps_1.jpg?itok=1-qto_iw\"></img>\n",
    "\n",
    "<p>\n",
    "    This notebook will only focus on the first step, <em>Data Exploration</em> : in order to perform our prediction (the number of stars of a git project), we must familiarize ourselves not only with the data but with the whole git universe. This means that their is no magic involved in a Data Science project ; business knowledge is critical to achieve any serious Data Science task. <br>\n",
    "</p>"
   ]
  },
  {
   "cell_type": "code",
   "execution_count": 70,
   "metadata": {},
   "outputs": [
    {
     "name": "stdout",
     "output_type": "stream",
     "text": [
      "Populating the interactive namespace from numpy and matplotlib\n"
     ]
    }
   ],
   "source": [
    "%pylab inline\n",
    "import pandas as pd\n",
    "import seaborn\n",
    "from pylab import rcParams\n",
    "rcParams['figure.figsize'] = 16, 4"
   ]
  },
  {
   "cell_type": "markdown",
   "metadata": {},
   "source": [
    "<h3>Data Loading</h3>\n",
    "<p>The cell below will load the data set and display its first rows</p>"
   ]
  },
  {
   "cell_type": "code",
   "execution_count": 72,
   "metadata": {},
   "outputs": [
    {
     "data": {
      "text/html": [
       "<div>\n",
       "<style scoped>\n",
       "    .dataframe tbody tr th:only-of-type {\n",
       "        vertical-align: middle;\n",
       "    }\n",
       "\n",
       "    .dataframe tbody tr th {\n",
       "        vertical-align: top;\n",
       "    }\n",
       "\n",
       "    .dataframe thead th {\n",
       "        text-align: right;\n",
       "    }\n",
       "</style>\n",
       "<table border=\"1\" class=\"dataframe\">\n",
       "  <thead>\n",
       "    <tr style=\"text-align: right;\">\n",
       "      <th></th>\n",
       "      <th>customer_id</th>\n",
       "      <th>since_birth_parsed_days</th>\n",
       "      <th>price_first_item_purchased</th>\n",
       "      <th>gender</th>\n",
       "      <th>revenue</th>\n",
       "      <th>ip_country</th>\n",
       "      <th>ip_geopoint</th>\n",
       "      <th>ip_latitude</th>\n",
       "      <th>ip_longitude</th>\n",
       "      <th>pages_visited</th>\n",
       "      <th>campain</th>\n",
       "      <th>Country</th>\n",
       "      <th>GDP_cap</th>\n",
       "    </tr>\n",
       "  </thead>\n",
       "  <tbody>\n",
       "    <tr>\n",
       "      <th>0</th>\n",
       "      <td>10863d9892</td>\n",
       "      <td>39</td>\n",
       "      <td>44.0</td>\n",
       "      <td>M</td>\n",
       "      <td>156</td>\n",
       "      <td>Spain</td>\n",
       "      <td>POINT(2.159 41.3888)</td>\n",
       "      <td>41.3888</td>\n",
       "      <td>2.1590</td>\n",
       "      <td>6.0</td>\n",
       "      <td>False</td>\n",
       "      <td>spain</td>\n",
       "      <td>30058.0</td>\n",
       "    </tr>\n",
       "    <tr>\n",
       "      <th>1</th>\n",
       "      <td>21ec3b27e4</td>\n",
       "      <td>31</td>\n",
       "      <td>117.0</td>\n",
       "      <td>F</td>\n",
       "      <td>360</td>\n",
       "      <td>United States</td>\n",
       "      <td>POINT(-97.822 37.751)</td>\n",
       "      <td>37.7510</td>\n",
       "      <td>-97.8220</td>\n",
       "      <td>5.0</td>\n",
       "      <td>False</td>\n",
       "      <td>united states</td>\n",
       "      <td>51704.0</td>\n",
       "    </tr>\n",
       "    <tr>\n",
       "      <th>2</th>\n",
       "      <td>9a8ba01761</td>\n",
       "      <td>35</td>\n",
       "      <td>44.0</td>\n",
       "      <td>M</td>\n",
       "      <td>188</td>\n",
       "      <td>Germany</td>\n",
       "      <td>POINT(7.6833 50.1)</td>\n",
       "      <td>50.1000</td>\n",
       "      <td>7.6833</td>\n",
       "      <td>5.0</td>\n",
       "      <td>False</td>\n",
       "      <td>germany</td>\n",
       "      <td>38666.0</td>\n",
       "    </tr>\n",
       "    <tr>\n",
       "      <th>3</th>\n",
       "      <td>251ad74e43</td>\n",
       "      <td>31</td>\n",
       "      <td>57.0</td>\n",
       "      <td>F</td>\n",
       "      <td>343</td>\n",
       "      <td>United States</td>\n",
       "      <td>POINT(-84.5075 38.0287)</td>\n",
       "      <td>38.0287</td>\n",
       "      <td>-84.5075</td>\n",
       "      <td>6.0</td>\n",
       "      <td>False</td>\n",
       "      <td>united states</td>\n",
       "      <td>51704.0</td>\n",
       "    </tr>\n",
       "    <tr>\n",
       "      <th>4</th>\n",
       "      <td>845b601310</td>\n",
       "      <td>45</td>\n",
       "      <td>22.0</td>\n",
       "      <td>F</td>\n",
       "      <td>88</td>\n",
       "      <td>Brazil</td>\n",
       "      <td>POINT(-43.2192 -22.8305)</td>\n",
       "      <td>-22.8305</td>\n",
       "      <td>-43.2192</td>\n",
       "      <td>7.0</td>\n",
       "      <td>False</td>\n",
       "      <td>brazil</td>\n",
       "      <td>11747.0</td>\n",
       "    </tr>\n",
       "  </tbody>\n",
       "</table>\n",
       "</div>"
      ],
      "text/plain": [
       "  customer_id  since_birth_parsed_days  price_first_item_purchased gender  \\\n",
       "0  10863d9892                       39                        44.0      M   \n",
       "1  21ec3b27e4                       31                       117.0      F   \n",
       "2  9a8ba01761                       35                        44.0      M   \n",
       "3  251ad74e43                       31                        57.0      F   \n",
       "4  845b601310                       45                        22.0      F   \n",
       "\n",
       "   revenue     ip_country               ip_geopoint  ip_latitude  \\\n",
       "0      156          Spain      POINT(2.159 41.3888)      41.3888   \n",
       "1      360  United States     POINT(-97.822 37.751)      37.7510   \n",
       "2      188        Germany        POINT(7.6833 50.1)      50.1000   \n",
       "3      343  United States   POINT(-84.5075 38.0287)      38.0287   \n",
       "4       88         Brazil  POINT(-43.2192 -22.8305)     -22.8305   \n",
       "\n",
       "   ip_longitude  pages_visited  campain        Country  GDP_cap  \n",
       "0        2.1590            6.0    False          spain  30058.0  \n",
       "1      -97.8220            5.0    False  united states  51704.0  \n",
       "2        7.6833            5.0    False        germany  38666.0  \n",
       "3      -84.5075            6.0    False  united states  51704.0  \n",
       "4      -43.2192            7.0    False         brazil  11747.0  "
      ]
     },
     "execution_count": 72,
     "metadata": {},
     "output_type": "execute_result"
    }
   ],
   "source": [
    "dataSet = pd.read_csv(\"./customerLifetimeValue.csv\", sep=\";\")\n",
    "dataSet.head()"
   ]
  },
  {
   "cell_type": "markdown",
   "metadata": {},
   "source": [
    "<span>Some basic statistics can also be computed and shown with the following expression : </span>"
   ]
  },
  {
   "cell_type": "code",
   "execution_count": 73,
   "metadata": {},
   "outputs": [
    {
     "data": {
      "text/html": [
       "<div>\n",
       "<style scoped>\n",
       "    .dataframe tbody tr th:only-of-type {\n",
       "        vertical-align: middle;\n",
       "    }\n",
       "\n",
       "    .dataframe tbody tr th {\n",
       "        vertical-align: top;\n",
       "    }\n",
       "\n",
       "    .dataframe thead th {\n",
       "        text-align: right;\n",
       "    }\n",
       "</style>\n",
       "<table border=\"1\" class=\"dataframe\">\n",
       "  <thead>\n",
       "    <tr style=\"text-align: right;\">\n",
       "      <th></th>\n",
       "      <th>since_birth_parsed_days</th>\n",
       "      <th>price_first_item_purchased</th>\n",
       "      <th>revenue</th>\n",
       "      <th>ip_latitude</th>\n",
       "      <th>ip_longitude</th>\n",
       "      <th>pages_visited</th>\n",
       "      <th>GDP_cap</th>\n",
       "    </tr>\n",
       "  </thead>\n",
       "  <tbody>\n",
       "    <tr>\n",
       "      <th>count</th>\n",
       "      <td>29299.000000</td>\n",
       "      <td>29299.000000</td>\n",
       "      <td>29299.000000</td>\n",
       "      <td>29243.000000</td>\n",
       "      <td>29243.000000</td>\n",
       "      <td>29299.000000</td>\n",
       "      <td>28322.000000</td>\n",
       "    </tr>\n",
       "    <tr>\n",
       "      <th>mean</th>\n",
       "      <td>51.115669</td>\n",
       "      <td>40.600908</td>\n",
       "      <td>177.451654</td>\n",
       "      <td>34.955954</td>\n",
       "      <td>-9.362154</td>\n",
       "      <td>6.036145</td>\n",
       "      <td>36462.401208</td>\n",
       "    </tr>\n",
       "    <tr>\n",
       "      <th>std</th>\n",
       "      <td>28.417943</td>\n",
       "      <td>27.251376</td>\n",
       "      <td>69.052396</td>\n",
       "      <td>18.624989</td>\n",
       "      <td>88.221623</td>\n",
       "      <td>2.518203</td>\n",
       "      <td>16708.090946</td>\n",
       "    </tr>\n",
       "    <tr>\n",
       "      <th>min</th>\n",
       "      <td>-26.000000</td>\n",
       "      <td>10.000000</td>\n",
       "      <td>28.000000</td>\n",
       "      <td>-53.787700</td>\n",
       "      <td>-172.333300</td>\n",
       "      <td>1.000000</td>\n",
       "      <td>665.000000</td>\n",
       "    </tr>\n",
       "    <tr>\n",
       "      <th>25%</th>\n",
       "      <td>32.000000</td>\n",
       "      <td>22.000000</td>\n",
       "      <td>133.000000</td>\n",
       "      <td>33.596400</td>\n",
       "      <td>-92.895300</td>\n",
       "      <td>4.000000</td>\n",
       "      <td>20562.000000</td>\n",
       "    </tr>\n",
       "    <tr>\n",
       "      <th>50%</th>\n",
       "      <td>41.000000</td>\n",
       "      <td>42.000000</td>\n",
       "      <td>172.000000</td>\n",
       "      <td>37.751000</td>\n",
       "      <td>-1.162800</td>\n",
       "      <td>6.000000</td>\n",
       "      <td>38666.000000</td>\n",
       "    </tr>\n",
       "    <tr>\n",
       "      <th>75%</th>\n",
       "      <td>58.000000</td>\n",
       "      <td>44.000000</td>\n",
       "      <td>217.000000</td>\n",
       "      <td>43.631900</td>\n",
       "      <td>54.000000</td>\n",
       "      <td>7.000000</td>\n",
       "      <td>51704.000000</td>\n",
       "    </tr>\n",
       "    <tr>\n",
       "      <th>max</th>\n",
       "      <td>117.000000</td>\n",
       "      <td>117.000000</td>\n",
       "      <td>549.000000</td>\n",
       "      <td>69.666700</td>\n",
       "      <td>176.204400</td>\n",
       "      <td>14.000000</td>\n",
       "      <td>100889.000000</td>\n",
       "    </tr>\n",
       "  </tbody>\n",
       "</table>\n",
       "</div>"
      ],
      "text/plain": [
       "       since_birth_parsed_days  price_first_item_purchased       revenue  \\\n",
       "count             29299.000000                29299.000000  29299.000000   \n",
       "mean                 51.115669                   40.600908    177.451654   \n",
       "std                  28.417943                   27.251376     69.052396   \n",
       "min                 -26.000000                   10.000000     28.000000   \n",
       "25%                  32.000000                   22.000000    133.000000   \n",
       "50%                  41.000000                   42.000000    172.000000   \n",
       "75%                  58.000000                   44.000000    217.000000   \n",
       "max                 117.000000                  117.000000    549.000000   \n",
       "\n",
       "        ip_latitude  ip_longitude  pages_visited        GDP_cap  \n",
       "count  29243.000000  29243.000000   29299.000000   28322.000000  \n",
       "mean      34.955954     -9.362154       6.036145   36462.401208  \n",
       "std       18.624989     88.221623       2.518203   16708.090946  \n",
       "min      -53.787700   -172.333300       1.000000     665.000000  \n",
       "25%       33.596400    -92.895300       4.000000   20562.000000  \n",
       "50%       37.751000     -1.162800       6.000000   38666.000000  \n",
       "75%       43.631900     54.000000       7.000000   51704.000000  \n",
       "max       69.666700    176.204400      14.000000  100889.000000  "
      ]
     },
     "execution_count": 73,
     "metadata": {},
     "output_type": "execute_result"
    }
   ],
   "source": [
    "dataSet.describe()"
   ]
  },
  {
   "cell_type": "markdown",
   "metadata": {},
   "source": [
    "<p>\n",
    "    At this point, the simpliest and the most common way of starting the exploration phase is to perform an <em>univariate analysis</em> : we will try to establish simple correlations between our variables - or features  (forks, size, issues, language...) - and the target (stargazers_count).\n",
    "\n",
    "<br />\n",
    "\n",
    "    The way of proceeding is simple ; let's ask ourselves the following question :  <b>how the target behaves when we split our dataset depending on the value a feature ?</b>\n",
    "</p>\n",
    "\n",
    "<p>\n",
    "    Before answering this question, a distinction must be made. There are two kind of variables : <br>\n",
    "    Ones are quantitavite and called <em>numerical</em> (the size of the repo for exemple) and others are qualitative and called <em>categorical</em> (the language of the repo).\n",
    "</p>\n",
    "\n",
    "<h3> Insight - qualitative features</h3>\n",
    "\n",
    "<p>\n",
    "    As it was said before, their are two kinds of variables. We will take a look at the last ones, the categoricals.\n",
    "</p>\n",
    "<p>\n",
    "As a first approach, we can plot the mean revenue by country :\n",
    "</p>"
   ]
  },
  {
   "cell_type": "code",
   "execution_count": 103,
   "metadata": {
    "scrolled": false
   },
   "outputs": [
    {
     "data": {
      "image/png": "[encoded data removed]",
      "text/plain": [
       "<matplotlib.figure.Figure at 0x117694590>"
      ]
     },
     "metadata": {},
     "output_type": "display_data"
    }
   ],
   "source": [
    "gbCountry = dataSet.groupby(\"Country\")[\"revenue\"].mean()\n",
    "gbCountry = gbCountry.sort_values()[-10:]\n",
    "plt.title(\"Mean revenue by country\")\n",
    "g = seaborn.barplot(gbCountry.index.values, gbCountry.values)#, palette=[\"#5BA0D1\"]*5)\n",
    "_=g.set_xticklabels(gbCountry.index.values,rotation=30)\n",
    "plt.show()"
   ]
  },
  {
   "cell_type": "markdown",
   "metadata": {},
   "source": [
    "<p>\n",
    "    Ok ! Lets unravel the code above line by line.\n",
    "    <ul>\n",
    "          <li>\n",
    "            The first line groups all the repos by country and computes the mean value of the\n",
    "            <code>revenue</code> feature (our target)\n",
    "        </li>\n",
    "        \n",
    "        <li>\n",
    "            The following line sorts the countries by ascending mean value and only keeps the 10 first values\n",
    "        </li>\n",
    "        <li>\n",
    "            The third line sets a title to the figure and the fourth draws a bar plot with <code>gbCountry.index.values</code> as keys and\n",
    "            <code>gbCountry.values</code> as values\n",
    "        </li>\n",
    "        <li>\n",
    "            The x labels (<code>gbCountry.index.values</code>) are rotated for aestethics purposes\n",
    "        </li>\n",
    "        \n",
    "        <li>\n",
    "            Finaly, the figure is plotted\n",
    "        </li>\n",
    "    </ul>\n",
    "</p>\n",
    "<p>\n",
    "    And Voilà ! Our first insight. We now know that a correlation may exist between the language used and the target.\n",
    "</p>\n",
    "<p>\n",
    "    What we just did is the bread and butter of a Data Science project : highlighting correlations to perform a prediction.   \n",
    "</p>\n",
    "<p>\n",
    "    Also, you may find the results quiet surpising. But bear in mind that it is just a average, and the subsample is really small in some cases (their is only one Liberian buyer in the data set).\n",
    "</p>\n",
    "\n",
    "<h3> Insight - quantitative feature</h3>\n",
    "<p>\n",
    "    The same goes now with numerical features : in the last cells, the data set was splitted in <em>groups</em> or <em>subsamples</em> sharing a common <em>feature</em>. The target was then studied in each <em>subsample</em>. For continuous or numerical values, it goes the same way : we will simply plot (or in our case more specifically <em>scatter</em>) how our target behaves with regards to a specific feature - in this case, the <code>GDP_cap</code>\n",
    "</p>"
   ]
  },
  {
   "cell_type": "code",
   "execution_count": 111,
   "metadata": {},
   "outputs": [
    {
     "data": {
      "text/plain": [
       "<matplotlib.axes.AxesSubplot at 0x117c88250>"
      ]
     },
     "execution_count": 111,
     "metadata": {},
     "output_type": "execute_result"
    },
    {
     "data": {
      "image/png": "[encoded data removed]",
      "text/plain": [
       "<matplotlib.figure.Figure at 0x11451dd50>"
      ]
     },
     "metadata": {},
     "output_type": "display_data"
    }
   ],
   "source": [
    "plt.title(\"Revenue by GDP_cap\")\n",
    "subsample = dataSet.sample(n=1000)\n",
    "seaborn.regplot(subsample[\"GDP_cap\"], subsample[\"revenue\"])"
   ]
  },
  {
   "cell_type": "markdown",
   "metadata": {},
   "source": [
    "<p>\n",
    "    The figure above may lead us to think that heir is a <em>positive</em> relation between the <code>GDP_cap</code> and the <code>revenue</code> : the greater is the first variables the greater is the second one.\n",
    "</p>\n",
    "\n",
    "<p>\n",
    "    Your turn now ! Draw a scatter plot of the revenue by the price of the first item pruchased (the feature is named <code>price_first_item_purchased</code>)\n",
    "</p>\n",
    "\n",
    "\n",
    "\n"
   ]
  },
  {
   "cell_type": "code",
   "execution_count": null,
   "metadata": {},
   "outputs": [],
   "source": []
  },
  {
   "cell_type": "markdown",
   "metadata": {},
   "source": [
    "<h3>Whats next ? </h3>\n",
    "<p>\n",
    "        At this stage of the notebook, we've loaded the data, gathered a few insights about our target, and handeled some basic plotting functions. \n",
    "</p>\n",
    "<p>\n",
    "    Albeit the exploration phase could go longer, I invite you to meet me at the next notebook where you will build your first model !\n",
    "</p>"
   ]
  }
 ],
 "metadata": {
  "creator": "daoud",
  "kernelspec": {
   "display_name": "Python 2",
   "language": "python",
   "name": "python2"
  },
  "language_info": {
   "codemirror_mode": {
    "name": "ipython",
    "version": 2
   },
   "file_extension": ".py",
   "mimetype": "text/x-python",
   "name": "python",
   "nbconvert_exporter": "python",
   "pygments_lexer": "ipython2",
   "version": "2.7.10"
  },
  "tags": []
 },
 "nbformat": 4,
 "nbformat_minor": 1
}
