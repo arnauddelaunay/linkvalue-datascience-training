{
 "cells": [
  {
   "cell_type": "markdown",
   "metadata": {},
   "source": [
    "<img style=\"center\" width=\"300\" src=\"static/images/logo-training.png\" />\n",
    "\n",
    "<h1  style=\"text-align:center\"> Notebook #1 </h1>"
   ]
  },
  {
   "cell_type": "markdown",
   "metadata": {},
   "source": [
    "<h2> Data Science for mortals </h2>\n",
    "<p>\n",
    "This notebook aims to guide you throught your first steps in the world of Data Science.\n",
    "<span style=\"color:white\">This is an easter egg</span>\n",
    "<br />\n",
    "The general concept of a Data Science project will be presented. After a brief introduction, the dataset will be presented. The goal of this notebook is to produce insights that will help us better understand the data.\n",
    "</p>\n",
    "<p>\n",
    "The final goal of any Data Science project is to <em>automatically product data from existing data</em> in order to achive a defined goal. \n",
    "</p>\n",
    "\n",
    "<p>\n",
    "The figure below shows how a typical data science project evolves. \n",
    "</p>\n",
    "<img src=\"https://www.mcgill.ca/datascience/files/datascience/styles/wysiwyg_extra_large/public/steps_1.jpg?itok=1-qto_iw\"></img>\n",
    "\n",
    "<p>\n",
    "    This notebook will only focus on the first step, <em>Data Exploration</em> : in order to perform our prediction (either a customer will generate revenue for your retail website or not), we must familiarize ourselves not only with the data but with the whole retail universe. This means that their is no magic involved in a Data Science project ; <b>business knowledge is critical</b> to achieve any serious Data Science task. <br>\n",
    "</p>"
   ]
  },
  {
   "cell_type": "code",
   "execution_count": null,
   "metadata": {
    "ExecuteTime": {
     "end_time": "2020-08-13T11:31:53.046932Z",
     "start_time": "2020-08-13T11:31:51.887010Z"
    }
   },
   "outputs": [],
   "source": [
    "import pandas as pd\n",
    "import seaborn\n",
    "%matplotlib inline\n",
    "import matplotlib.pyplot as plt\n",
    "plt.rcParams[\"figure.figsize\"] = (16, 4)"
   ]
  },
  {
   "cell_type": "markdown",
   "metadata": {},
   "source": [
    "<h3>Data Loading</h3>\n",
    "<p>The cell below will load the data set and display its first rows</p>"
   ]
  },
  {
   "cell_type": "code",
   "execution_count": null,
   "metadata": {
    "ExecuteTime": {
     "end_time": "2020-08-13T11:31:53.164087Z",
     "start_time": "2020-08-13T11:31:53.050799Z"
    }
   },
   "outputs": [],
   "source": [
    "dataset = pd.read_csv(\"./data/customerLifetimeValue.csv\", sep=\";\")\n",
    "dataset.head()"
   ]
  },
  {
   "cell_type": "markdown",
   "metadata": {},
   "source": [
    "<span>Some basic statistics can also be computed and shown with the following expression : </span>"
   ]
  },
  {
   "cell_type": "code",
   "execution_count": null,
   "metadata": {
    "ExecuteTime": {
     "end_time": "2020-08-13T11:31:53.236615Z",
     "start_time": "2020-08-13T11:31:53.167784Z"
    }
   },
   "outputs": [],
   "source": [
    "dataset.describe()"
   ]
  },
  {
   "cell_type": "markdown",
   "metadata": {},
   "source": [
    "<p>\n",
    "    At this point, the simpliest and the most common way of starting the exploration phase is to perform an <em>univariate analysis</em> : we will try to establish simple correlations between our variables - or features  (price of first item, number of pages visited) - and the target (revenue).\n",
    "\n",
    "<br>\n",
    "\n",
    "The way of proceeding is simple, let's ask ourselves the following question :  <b>how the target behaves when we split our dataset depending on the value a feature ?</b>\n",
    "</p>\n",
    "\n",
    "<p>\n",
    "    Before answering this question, a distinction must be made. There are two kind of variables : <br>\n",
    "    Ones are quantitavite and called <em>numerical</em> (the price of the first item for exemple) and others are qualitative and called <em>categorical</em> (thec country of the customer).\n",
    "</p>\n",
    "\n",
    "<h3> Insight - qualitative features</h3>\n",
    "\n",
    "<p>\n",
    "    As it was said before, their are two kinds of variables. We will take a look at the last ones, the categoricals.\n",
    "</p>\n",
    "<p>\n",
    "As a first approach, we can plot the mean revenue by country :\n",
    "</p>"
   ]
  },
  {
   "cell_type": "code",
   "execution_count": null,
   "metadata": {
    "ExecuteTime": {
     "end_time": "2020-08-13T11:31:53.551186Z",
     "start_time": "2020-08-13T11:31:53.238752Z"
    },
    "scrolled": false
   },
   "outputs": [],
   "source": [
    "country_revenue = dataset.groupby(\"Country\")[\"revenue\"].mean()\n",
    "country_revenue = country_revenue.sort_values()[-10:]\n",
    "plt.title(\"Mean revenue by country\")\n",
    "barplot = seaborn.barplot(country_revenue.index.values, country_revenue.values)\n",
    "_ = barplot.set_xticklabels(country_revenue.index.values, rotation=30)\n",
    "plt.show()"
   ]
  },
  {
   "cell_type": "markdown",
   "metadata": {},
   "source": [
    "<p>\n",
    "    Ok ! Lets unravel the code above line by line.\n",
    "<ul>\n",
    "    <li>\n",
    "            The first line groups all the repos by country and computes the mean value of the\n",
    "            <code>revenue</code> feature (our target)\n",
    "    </li>\n",
    "    <li>\n",
    "        The following line sorts the countries by ascending mean value and only keeps the 10 first values\n",
    "    </li>\n",
    "    <li>\n",
    "        The third line sets a title to the figure and the fourth draws a bar plot with <code>gbCountry.index.values</code> as keys and\n",
    "        <code>gbCountry.values</code> as values\n",
    "    </li>\n",
    "    <li>\n",
    "        The x labels (<code>gbCountry.index.values</code>) are rotated for aestethics purposes\n",
    "    </li>\n",
    "    <li>\n",
    "        Finaly, the figure is plotted\n",
    "    </li>\n",
    "</ul>\n",
    "</p>\n",
    "<p>\n",
    "    And Voilà ! Our first insight. We now know that a correlation may exist between the country and the target.\n",
    "</p>\n",
    "<p>\n",
    "    What we just did is the bread and butter of a Data Science project : highlighting correlations to perform a prediction.   \n",
    "</p>\n",
    "<p>\n",
    "    Also, you may find the results quiet surpising. But bear in mind that it is just a average, and the subsample is really small in some cases (their is only one Liberian buyer in the data set).\n",
    "</p>\n",
    "\n",
    "<h3> Insight - quantitative feature</h3>\n",
    "<p>\n",
    "    The same goes now with numerical features : in the last cells, the data set was splitted in <em>groups</em> or <em>subsamples</em> sharing a common <em>feature</em>. The target was then studied in each <em>subsample</em>. For continuous or numerical values, it goes the same way : we will simply plot (or in our case more specifically <em>scatter</em>) how our target behaves with regards to a specific feature - in this case, the <code>GDP_cap</code>\n",
    "</p>"
   ]
  },
  {
   "cell_type": "code",
   "execution_count": null,
   "metadata": {
    "ExecuteTime": {
     "end_time": "2020-08-13T11:31:53.959555Z",
     "start_time": "2020-08-13T11:31:53.556241Z"
    }
   },
   "outputs": [],
   "source": [
    "plt.title(\"Revenue by GDP_cap\")\n",
    "subsample = dataset.sample(n=1000)\n",
    "seaborn.regplot(subsample[\"GDP_cap\"], subsample[\"revenue\"])"
   ]
  },
  {
   "cell_type": "markdown",
   "metadata": {},
   "source": [
    "<p>\n",
    "    The figure above may lead us to think that heir is a <em>positive</em> relation between the <code>GDP_cap</code> and the <code>revenue</code> : the greater is the first variables the greater is the second one.\n",
    "</p>\n",
    "\n",
    "\n",
    "\n",
    "\n"
   ]
  },
  {
   "cell_type": "markdown",
   "metadata": {
    "collapsed": true
   },
   "source": [
    "<hr>\n",
    "<h1 style=\"text-align:center; color:orange\">YOUR TURN</h1>\n",
    "<hr>"
   ]
  },
  {
   "cell_type": "markdown",
   "metadata": {
    "collapsed": true,
    "solution2": "hidden",
    "solution2_first": true
   },
   "source": [
    "<mark><b>Exercice A</b> Draw a scatter plot of the revenue by the price of the first item pruchased (the feature is named <code>price_first_item_purchased</code>)</mark>"
   ]
  },
  {
   "cell_type": "code",
   "execution_count": null,
   "metadata": {
    "ExecuteTime": {
     "end_time": "2020-08-13T11:31:57.547408Z",
     "start_time": "2020-08-13T11:31:57.216281Z"
    },
    "solution2": "hidden"
   },
   "outputs": [],
   "source": [
    "plt.title(\"Revenue by price of the first item\")\n",
    "seaborn.scatterplot(subsample[\"price_first_item_purchased\"], subsample[\"revenue\"])"
   ]
  },
  {
   "cell_type": "markdown",
   "metadata": {
    "collapsed": true,
    "solution2": "hidden",
    "solution2_first": true
   },
   "source": [
    "<mark><b>Exercice B</b> Give some statistics about this column <code>price_first_item_purchased</code> (min, max, etc.)</mark>"
   ]
  },
  {
   "cell_type": "code",
   "execution_count": null,
   "metadata": {
    "ExecuteTime": {
     "end_time": "2020-08-13T11:32:31.236407Z",
     "start_time": "2020-08-13T11:32:31.199736Z"
    },
    "solution2": "hidden"
   },
   "outputs": [],
   "source": [
    "subsample['price_first_item_purchased'].describe()"
   ]
  },
  {
   "cell_type": "markdown",
   "metadata": {
    "collapsed": true,
    "solution2": "hidden",
    "solution2_first": true
   },
   "source": [
    "<mark><b> Exercice C</b> Are you able to give us the average price of the first purchased item for people having visited 8 pages ?</mark>"
   ]
  },
  {
   "cell_type": "code",
   "execution_count": null,
   "metadata": {
    "ExecuteTime": {
     "end_time": "2020-08-13T11:34:37.681212Z",
     "start_time": "2020-08-13T11:34:37.664494Z"
    },
    "solution2": "hidden"
   },
   "outputs": [],
   "source": [
    "dataset[dataset['pages_visited'] == 8]['price_first_item_purchased'].mean()"
   ]
  }
 ],
 "metadata": {
  "creator": "daoud",
  "kernelspec": {
   "display_name": "Python 3",
   "language": "python",
   "name": "python3"
  },
  "language_info": {
   "codemirror_mode": {
    "name": "ipython",
    "version": 3
   },
   "file_extension": ".py",
   "mimetype": "text/x-python",
   "name": "python",
   "nbconvert_exporter": "python",
   "pygments_lexer": "ipython3",
   "version": "3.6.11"
  },
  "tags": [],
  "toc": {
   "base_numbering": 1,
   "nav_menu": {},
   "number_sections": true,
   "sideBar": true,
   "skip_h1_title": false,
   "title_cell": "Table of Contents",
   "title_sidebar": "Contents",
   "toc_cell": false,
   "toc_position": {},
   "toc_section_display": true,
   "toc_window_display": true
  }
 },
 "nbformat": 4,
 "nbformat_minor": 1
}
