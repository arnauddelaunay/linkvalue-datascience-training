{
 "cells": [
  {
   "cell_type": "markdown",
   "metadata": {},
   "source": [
    "<img style=\"center\" width=\"300\" src=\"static/images/logo-training.png\" />\n",
    "\n",
    "<h1  style=\"text-align:center\"> Notebook #2 </h1>"
   ]
  },
  {
   "cell_type": "markdown",
   "metadata": {},
   "source": [
    "<h1>Intro about regression</h1>\n",
    "<img width=\"600\" src=\"static/images/regression.png\" />\n",
    "\n",
    "<p>\n",
    "In the fist notebook, a few correlation were discovered. We will know produce a simple model that will <em>automatically</em> learn how to predict the <code>revenue</code> of a client depending on known features (such as <code>price_first_item_purchased</code> or <code>pages_visited</code>).\n",
    "</p>\n",
    "\n",
    "<p> As we want to predict a continuous value, this problem is a regression problem ! </p>\n",
    "\n",
    "<p>\n",
    "    <i>Regression predictive modeling is the task of approximating a mapping function (f) from input variables (X) to a continuous output variable (y).</i>\n",
    "</p>\n",
    "\n"
   ]
  },
  {
   "cell_type": "markdown",
   "metadata": {},
   "source": [
    "# Starter code"
   ]
  },
  {
   "cell_type": "markdown",
   "metadata": {},
   "source": [
    "## Libs"
   ]
  },
  {
   "cell_type": "code",
   "execution_count": null,
   "metadata": {},
   "outputs": [],
   "source": [
    "# We import the usuals packages and the model from sklearn \n",
    "import pandas as pd\n",
    "import numpy as np\n",
    "import matplotlib.pyplot as plt\n",
    "%matplotlib inline"
   ]
  },
  {
   "cell_type": "markdown",
   "metadata": {},
   "source": [
    "## Data"
   ]
  },
  {
   "cell_type": "code",
   "execution_count": null,
   "metadata": {},
   "outputs": [],
   "source": [
    "dataset = pd.read_csv(\"./data/customerLifetimeValue.csv\", sep=\";\")\n",
    "#We take the columns we need for our models and get the underlying matrix\n",
    "X_numeric = dataset[[\"price_first_item_purchased\", \"pages_visited\"]].values.copy()\n",
    "# target, as it is.\n",
    "y = dataset[\"revenue\"].values"
   ]
  },
  {
   "cell_type": "markdown",
   "metadata": {
    "collapsed": true
   },
   "source": [
    "## Import model and useful methods from sklearn"
   ]
  },
  {
   "cell_type": "code",
   "execution_count": null,
   "metadata": {},
   "outputs": [],
   "source": [
    "from sklearn.linear_model import LinearRegression\n",
    "from sklearn.model_selection import train_test_split"
   ]
  },
  {
   "cell_type": "markdown",
   "metadata": {},
   "source": [
    "## Preparing training set"
   ]
  },
  {
   "cell_type": "code",
   "execution_count": null,
   "metadata": {},
   "outputs": [],
   "source": [
    "from sklearn.model_selection import train_test_split\n",
    "#The left part of this line is known as the \"multiple assignement\". The right part is a function that will\n",
    "#automatically split a data set into test and train sets\n",
    "X_train, X_test, Y_train, Y_test = train_test_split(X_numeric, y, test_size=0.33)"
   ]
  },
  {
   "cell_type": "markdown",
   "metadata": {},
   "source": [
    "# Train a first model"
   ]
  },
  {
   "cell_type": "markdown",
   "metadata": {},
   "source": [
    "<hr>\n",
    "<div style=\"text-align:center; color:orange\"><b>YOUR TURN</b></div>\n",
    "<hr>"
   ]
  },
  {
   "cell_type": "markdown",
   "metadata": {
    "solution2": "hidden",
    "solution2_first": true
   },
   "source": [
    "<mark><b>Exercice A</b> Create a linear model and train it on a subset of the dataset.</mark>"
   ]
  },
  {
   "cell_type": "code",
   "execution_count": null,
   "metadata": {
    "ExecuteTime": {
     "end_time": "2020-08-13T15:22:18.825947Z",
     "start_time": "2020-08-13T15:22:18.797562Z"
    },
    "solution2": "hidden"
   },
   "outputs": [],
   "source": [
    "model = LinearRegression()\n",
    "model.fit(X_train, Y_train,)"
   ]
  },
  {
   "cell_type": "code",
   "execution_count": null,
   "metadata": {},
   "outputs": [],
   "source": [
    "### A]\n",
    "model = None"
   ]
  },
  {
   "cell_type": "markdown",
   "metadata": {
    "solution2": "hidden",
    "solution2_first": true
   },
   "source": [
    "<mark><b>Exercice B</b> Then, display the values of the coefficient of the model.</mark>"
   ]
  },
  {
   "cell_type": "code",
   "execution_count": null,
   "metadata": {
    "ExecuteTime": {
     "end_time": "2020-08-13T15:23:23.218407Z",
     "start_time": "2020-08-13T15:23:23.213749Z"
    },
    "solution2": "hidden"
   },
   "outputs": [],
   "source": [
    "coefs = model.coef_\n",
    "print(coefs)"
   ]
  },
  {
   "cell_type": "code",
   "execution_count": null,
   "metadata": {},
   "outputs": [],
   "source": [
    "### B] \n",
    "coefs = None\n",
    "print(coefs)"
   ]
  },
  {
   "cell_type": "markdown",
   "metadata": {
    "solution2": "hidden",
    "solution2_first": true
   },
   "source": [
    "<mark><b>Exercice C</b> Use method <code>predict</code> to retrieve prediction for the first entry of <code>X_numeric</code></mark>"
   ]
  },
  {
   "cell_type": "code",
   "execution_count": null,
   "metadata": {
    "ExecuteTime": {
     "end_time": "2020-08-13T15:24:42.868241Z",
     "start_time": "2020-08-13T15:24:42.862614Z"
    },
    "solution2": "hidden"
   },
   "outputs": [],
   "source": [
    "### C]\n",
    "prediction1 = model.predict(X_train[:1])[0]\n",
    "print(prediction1)"
   ]
  },
  {
   "cell_type": "code",
   "execution_count": null,
   "metadata": {},
   "outputs": [],
   "source": [
    "### C]\n",
    "prediction1 = None\n",
    "print(prediction1)"
   ]
  },
  {
   "cell_type": "code",
   "execution_count": null,
   "metadata": {
    "ExecuteTime": {
     "end_time": "2020-08-13T15:25:27.986256Z",
     "start_time": "2020-08-13T15:25:27.980598Z"
    }
   },
   "outputs": [],
   "source": [
    "def test_answer_D(model, computed_value):\n",
    "    assert model.predict(X_numeric[0:1])[0]==computed_value, \"Oops, try again !\""
   ]
  },
  {
   "cell_type": "markdown",
   "metadata": {
    "solution2": "hidden",
    "solution2_first": true
   },
   "source": [
    "<mark><b>Exercice D</b> Compute this prediction <b>not using</b> method <code>predict</code> (you can use function below to verify your result)</mark>"
   ]
  },
  {
   "cell_type": "code",
   "execution_count": null,
   "metadata": {
    "ExecuteTime": {
     "end_time": "2020-08-13T15:26:27.965536Z",
     "start_time": "2020-08-13T15:26:27.958665Z"
    },
    "solution2": "hidden"
   },
   "outputs": [],
   "source": [
    "### D]\n",
    "prediction1b = coefs[0] * X_numeric[0][0] + coefs[1] * X_numeric[0][1] + model.intercept_\n",
    "test_answer_D(model, prediction1b)"
   ]
  },
  {
   "cell_type": "code",
   "execution_count": null,
   "metadata": {},
   "outputs": [],
   "source": [
    "### D]\n",
    "prediction1b = None\n",
    "test_answer_D(model, prediction1b)"
   ]
  },
  {
   "cell_type": "code",
   "execution_count": null,
   "metadata": {},
   "outputs": [],
   "source": []
  },
  {
   "cell_type": "markdown",
   "metadata": {},
   "source": [
    "# Evaluation of the performance"
   ]
  },
  {
   "cell_type": "code",
   "execution_count": null,
   "metadata": {
    "ExecuteTime": {
     "end_time": "2020-08-13T15:32:01.548261Z",
     "start_time": "2020-08-13T15:32:01.543657Z"
    }
   },
   "outputs": [],
   "source": [
    "from sklearn.metrics import mean_absolute_error"
   ]
  },
  {
   "cell_type": "markdown",
   "metadata": {
    "solution2": "hidden",
    "solution2_first": true
   },
   "source": [
    "<hr>\n",
    "<div style=\"text-align:center; color:orange\"><b>YOUR TURN</b></div>\n",
    "<hr>\n",
    "<mark><b>Exercice E</b> Compute the Mean Absolute Error on the testing set (set on which your model did not train)</mark>"
   ]
  },
  {
   "cell_type": "code",
   "execution_count": null,
   "metadata": {
    "ExecuteTime": {
     "end_time": "2020-08-13T15:32:13.803434Z",
     "start_time": "2020-08-13T15:32:13.784739Z"
    },
    "solution2": "hidden"
   },
   "outputs": [],
   "source": [
    "# Your turn !\n",
    "y_pred = model.predict(X_test)\n",
    "mae_on_test = mean_absolute_error(Y_test, y_pred)\n",
    "print(mae_on_test)"
   ]
  },
  {
   "cell_type": "code",
   "execution_count": null,
   "metadata": {},
   "outputs": [],
   "source": [
    "# Your turn !\n",
    "y_pred = None\n",
    "mae_on_test = None\n",
    "print(mae_on_test)"
   ]
  },
  {
   "cell_type": "markdown",
   "metadata": {},
   "source": [
    "# To go further\n",
    "\n",
    "Now, we want to increase our performance with a more complex model that will try to better fit our training set.\n",
    "\n",
    "First, let's analyzed with some visualisations our first results : "
   ]
  },
  {
   "cell_type": "code",
   "execution_count": null,
   "metadata": {
    "ExecuteTime": {
     "end_time": "2020-08-13T15:47:28.171286Z",
     "start_time": "2020-08-13T15:47:27.784729Z"
    }
   },
   "outputs": [],
   "source": [
    "plt.scatter(Y_train, model.predict(X_train))\n",
    "plt.plot([min(Y_train),max(Y_train)], [min(Y_train),max(Y_train)])"
   ]
  },
  {
   "cell_type": "code",
   "execution_count": null,
   "metadata": {
    "ExecuteTime": {
     "end_time": "2020-08-13T15:47:46.239301Z",
     "start_time": "2020-08-13T15:47:45.303542Z"
    }
   },
   "outputs": [],
   "source": [
    "from mpl_toolkits.mplot3d import Axes3D\n",
    "fig = plt.figure()\n",
    "ax = fig.add_subplot(111, projection='3d')\n",
    "ax.scatter(X_testst[:, 0], X_test[:, 1], y_pred, c=\"b\", alpha=.1)"
   ]
  },
  {
   "cell_type": "code",
   "execution_count": null,
   "metadata": {
    "ExecuteTime": {
     "end_time": "2020-08-13T15:46:40.870655Z",
     "start_time": "2020-08-13T15:46:40.852533Z"
    }
   },
   "outputs": [],
   "source": [
    "plt.scatter(train_X[:,1], train_y)"
   ]
  },
  {
   "cell_type": "markdown",
   "metadata": {},
   "source": [
    "## Polynomial Features : a better model ?\n",
    "\n",
    "<img src=\"http://scikit-learn.org/stable/_images/sphx_glr_plot_polynomial_interpolation_0011.png\"/>"
   ]
  },
  {
   "cell_type": "code",
   "execution_count": null,
   "metadata": {
    "ExecuteTime": {
     "end_time": "2020-08-13T15:34:53.792656Z",
     "start_time": "2020-08-13T15:34:53.781831Z"
    }
   },
   "outputs": [],
   "source": [
    "from sklearn.preprocessing import PolynomialFeatures\n",
    "from sklearn.linear_model import LinearRegression\n",
    "from sklearn.pipeline import Pipeline\n",
    "import numpy as np\n",
    "model_N2 = Pipeline([('poly', PolynomialFeatures(degree=2)),\n",
    "                  ('linear', LinearRegression())])"
   ]
  },
  {
   "cell_type": "markdown",
   "metadata": {
    "solution2": "hidden",
    "solution2_first": true
   },
   "source": [
    "<hr>\n",
    "<div style=\"text-align:center; color:orange\"><b>YOUR TURN</b></div>\n",
    "<hr>\n",
    "\n",
    "<mark><b>Exercice F</b> Fit a polynomial features of 2nd order and print MAE on train and test</mark>"
   ]
  },
  {
   "cell_type": "code",
   "execution_count": null,
   "metadata": {
    "ExecuteTime": {
     "end_time": "2020-08-13T15:40:51.526644Z",
     "start_time": "2020-08-13T15:40:51.512133Z"
    },
    "solution2": "hidden"
   },
   "outputs": [],
   "source": [
    "model_N2.fit(X_train, Y_train)\n",
    "y_pred_train = model_N2.predict(X_train)\n",
    "y_pred_test = model_N2.predict(X_test)\n",
    "\n",
    "mae_train = mean_absolute_error(y_pred_train, Y_train)\n",
    "mae_test = mean_absolute_error(y_pred_test, Y_test)\n",
    "print(\"MAE on train {mae_train:0.2f} -- MAE in test {mae_test:0.2f}\".format(mae_train=mae_train, mae_test=mae_test))"
   ]
  },
  {
   "cell_type": "markdown",
   "metadata": {
    "solution2": "hidden",
    "solution2_first": true
   },
   "source": [
    "<mark><b>Exercice G</b> Plot a 3D representation of the predictions function of the 2 features</mark>"
   ]
  },
  {
   "cell_type": "code",
   "execution_count": null,
   "metadata": {
    "ExecuteTime": {
     "end_time": "2020-08-13T15:41:56.576841Z",
     "start_time": "2020-08-13T15:41:55.665864Z"
    },
    "solution2": "hidden"
   },
   "outputs": [],
   "source": [
    "fig = plt.figure()\n",
    "ax = fig.add_subplot(111, projection='3d')\n",
    "ax.scatter(X_test[:, 0], X_test[:, 1], y_pred_test)"
   ]
  },
  {
   "cell_type": "markdown",
   "metadata": {
    "solution2": "hidden",
    "solution2_first": true
   },
   "source": [
    "<mark><b>Exercice H</b> Increase order of the model and analyze results. What do you notice ?</mark>"
   ]
  },
  {
   "cell_type": "code",
   "execution_count": null,
   "metadata": {
    "ExecuteTime": {
     "end_time": "2020-08-13T15:45:50.610177Z",
     "start_time": "2020-08-13T15:45:47.654569Z"
    },
    "solution2": "hidden"
   },
   "outputs": [],
   "source": [
    "def fit_polynomial_pipeline(degree, X_train, X_test, Y_train, Y_test, plot=True):\n",
    "    model = Pipeline([('poly', PolynomialFeatures(degree=degree)),\n",
    "                  ('linear', LinearRegression())])\n",
    "    model.fit(X_train, Y_train)\n",
    "    y_pred_train = model.predict(X_train)\n",
    "    y_pred_test = model.predict(X_test)\n",
    "\n",
    "    mae_train = mean_absolute_error(y_pred_train, Y_train)\n",
    "    mae_test = mean_absolute_error(y_pred_test, Y_test)\n",
    "    print(\"Results for model with polynomial features of degree {} :\".format(degree))\n",
    "    print(\"\\t MAE on train {mae_train:0.2f} -- MAE in test {mae_test:0.2f}\".format(mae_train=mae_train, mae_test=mae_test))\n",
    "    \n",
    "    if plot:\n",
    "        fig = plt.figure()\n",
    "        ax = fig.add_subplot(111, projection='3d')\n",
    "        ax.scatter(X_test[:, 0], X_test[:, 1], y_pred_test)\n",
    "        plt.title(\"3D representation for degree {}\".format(degree))\n",
    "        plt.show()\n",
    "        \n",
    "for n in range(3, 6):\n",
    "    fit_polynomial_pipeline(n, X_train, X_test, Y_train, Y_test)"
   ]
  },
  {
   "cell_type": "code",
   "execution_count": null,
   "metadata": {},
   "outputs": [],
   "source": []
  }
 ],
 "metadata": {
  "kernelspec": {
   "display_name": "Python 3",
   "language": "python",
   "name": "python3"
  },
  "language_info": {
   "codemirror_mode": {
    "name": "ipython",
    "version": 3
   },
   "file_extension": ".py",
   "mimetype": "text/x-python",
   "name": "python",
   "nbconvert_exporter": "python",
   "pygments_lexer": "ipython3",
   "version": "3.6.11"
  },
  "toc": {
   "base_numbering": 1,
   "nav_menu": {},
   "number_sections": true,
   "sideBar": true,
   "skip_h1_title": false,
   "title_cell": "Table of Contents",
   "title_sidebar": "Contents",
   "toc_cell": false,
   "toc_position": {},
   "toc_section_display": true,
   "toc_window_display": false
  }
 },
 "nbformat": 4,
 "nbformat_minor": 2
}
