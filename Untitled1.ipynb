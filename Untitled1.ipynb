{
 "cells": [
  {
   "cell_type": "code",
   "execution_count": 21,
   "metadata": {
    "collapsed": true
   },
   "outputs": [],
   "source": [
    "from sklearn.neighbors import KNeighborsClassifier\n",
    "\n"
   ]
  },
  {
   "cell_type": "code",
   "execution_count": 22,
   "metadata": {
    "collapsed": true
   },
   "outputs": [],
   "source": [
    "import numpy as np"
   ]
  },
  {
   "cell_type": "code",
   "execution_count": 23,
   "metadata": {
    "collapsed": false
   },
   "outputs": [
    {
     "data": {
      "text/plain": [
       "array([[5.25599831e-01, 3.36970297e-01, 8.53047348e-01, 8.14858193e-01,\n",
       "        8.44600997e-01, 4.80820959e-02, 9.96468627e-01, 3.12809286e-01,\n",
       "        9.65227030e-01, 4.39372492e-01],\n",
       "       [3.10607554e-01, 2.97085012e-02, 1.84791688e-01, 1.05476058e-01,\n",
       "        4.24518122e-02, 2.40995669e-01, 9.63979758e-01, 5.02698824e-01,\n",
       "        2.91704529e-01, 4.01098472e-01],\n",
       "       [9.31313277e-01, 9.31161006e-01, 4.18842856e-01, 9.33057324e-02,\n",
       "        2.13727684e-01, 2.59205067e-01, 7.31807766e-01, 5.98502915e-02,\n",
       "        4.98847729e-01, 6.97348978e-01],\n",
       "       [5.75240369e-01, 7.21316594e-01, 6.10452411e-01, 5.45064838e-01,\n",
       "        3.32747788e-01, 6.79260145e-01, 3.08008951e-01, 9.85615381e-01,\n",
       "        7.57380389e-01, 7.27222583e-01],\n",
       "       [9.37812797e-01, 5.89927438e-02, 3.37730023e-01, 3.07896611e-02,\n",
       "        9.66631576e-01, 7.24841452e-01, 1.14083246e-01, 1.69457236e-01,\n",
       "        7.54349193e-01, 2.54339871e-05],\n",
       "       [6.85293261e-02, 5.55170096e-01, 4.08897721e-01, 9.39980187e-01,\n",
       "        2.40090629e-01, 6.57944248e-01, 8.96484003e-01, 2.91424658e-01,\n",
       "        8.05310254e-01, 3.82190928e-01],\n",
       "       [4.77414571e-04, 7.20181356e-01, 5.63932484e-02, 5.51317209e-01,\n",
       "        4.80666456e-01, 5.30828157e-01, 4.30131696e-01, 8.16519847e-01,\n",
       "        9.52866975e-01, 4.12161962e-01],\n",
       "       [1.01444572e-01, 6.74178199e-01, 8.33825938e-01, 4.39466801e-01,\n",
       "        8.17047986e-01, 4.99195528e-01, 8.40111619e-01, 2.42945892e-01,\n",
       "        3.97044926e-01, 8.56513584e-01],\n",
       "       [3.45759601e-01, 4.18091256e-01, 8.00698693e-01, 2.52100807e-01,\n",
       "        9.34224300e-01, 5.55191977e-01, 3.93366022e-01, 2.81407989e-02,\n",
       "        1.71872008e-01, 4.55350222e-01],\n",
       "       [2.07572422e-01, 6.88370334e-01, 3.96436024e-01, 7.89904622e-01,\n",
       "        6.30728938e-02, 4.59044623e-01, 7.26992862e-01, 4.84908371e-01,\n",
       "        4.50404540e-01, 1.07561168e-01],\n",
       "       [7.88641874e-01, 5.64844709e-01, 9.44567157e-02, 8.60574793e-01,\n",
       "        2.26923587e-01, 4.83962587e-01, 8.59638961e-02, 3.71910681e-01,\n",
       "        2.71057014e-01, 9.81954506e-01],\n",
       "       [9.09193671e-01, 5.59390163e-01, 9.94847521e-01, 9.76389569e-01,\n",
       "        2.74939787e-01, 9.53138878e-01, 7.22415351e-01, 1.10311120e-02,\n",
       "        3.78253302e-02, 4.45310690e-01],\n",
       "       [7.79764009e-01, 5.70326321e-01, 5.71267414e-01, 4.09120357e-02,\n",
       "        1.60291722e-01, 5.81794106e-01, 8.43678769e-01, 1.88970288e-01,\n",
       "        5.00757358e-01, 6.97538493e-01],\n",
       "       [8.74550405e-01, 3.48104231e-02, 4.61133676e-02, 7.36282297e-01,\n",
       "        7.44663272e-01, 9.09506551e-01, 1.97009701e-01, 1.01475166e-01,\n",
       "        8.31178366e-01, 4.01387977e-01],\n",
       "       [2.82248456e-01, 7.59209485e-01, 1.71077424e-01, 9.22127401e-01,\n",
       "        9.52466004e-01, 8.84834964e-02, 3.78263421e-01, 8.00572384e-01,\n",
       "        4.65051296e-01, 8.70730367e-01],\n",
       "       [9.86078662e-01, 9.66561663e-01, 8.53146241e-01, 8.82778705e-01,\n",
       "        3.81908609e-01, 4.10652975e-01, 8.88207136e-01, 5.14780751e-01,\n",
       "        8.17972334e-01, 2.68312505e-01],\n",
       "       [4.92243801e-01, 5.23486518e-01, 6.45790317e-01, 7.89144931e-01,\n",
       "        8.26671949e-01, 7.46827662e-01, 3.87900331e-01, 4.03833794e-01,\n",
       "        1.44179940e-01, 9.84968760e-01],\n",
       "       [3.04745003e-01, 2.78030203e-01, 8.33440367e-01, 2.38667488e-01,\n",
       "        6.16829492e-01, 5.58621849e-01, 8.54589504e-01, 3.79253936e-02,\n",
       "        2.19026112e-01, 2.36376559e-01],\n",
       "       [6.37782713e-01, 2.71324634e-01, 9.88838739e-01, 5.41634893e-01,\n",
       "        9.90419956e-01, 7.90742333e-02, 4.56650595e-01, 5.32734034e-01,\n",
       "        7.01462165e-02, 7.69433252e-01],\n",
       "       [4.67231574e-01, 5.04571907e-01, 3.31384060e-01, 8.17045467e-01,\n",
       "        1.77709847e-02, 9.78048098e-01, 7.64087908e-01, 5.91651478e-01,\n",
       "        3.97950487e-01, 1.79242195e-01],\n",
       "       [2.68132349e-02, 2.94823038e-02, 2.39792141e-01, 8.70278952e-01,\n",
       "        6.47232011e-02, 5.68333533e-01, 2.50463422e-01, 1.40956119e-01,\n",
       "        4.49689172e-01, 2.69287483e-01],\n",
       "       [9.05655080e-01, 2.95786382e-01, 8.01529901e-01, 9.36898168e-01,\n",
       "        1.34329136e-02, 3.17905020e-01, 2.30029853e-01, 4.85878891e-01,\n",
       "        6.60955275e-01, 1.12157071e-01],\n",
       "       [7.29009461e-03, 6.89829342e-01, 2.31806299e-01, 1.84013845e-01,\n",
       "        1.31399706e-01, 7.00294673e-01, 8.14724916e-02, 6.94416087e-01,\n",
       "        3.45108345e-01, 8.50963123e-01],\n",
       "       [7.53776827e-01, 1.88559339e-01, 5.21191502e-01, 4.02574242e-01,\n",
       "        5.82213232e-01, 5.89079953e-01, 3.02478180e-01, 4.44206155e-01,\n",
       "        1.02420066e-01, 3.41835987e-01],\n",
       "       [3.18493435e-01, 9.10171422e-01, 7.69305887e-02, 3.34703172e-01,\n",
       "        2.36596332e-02, 1.13606313e-02, 4.84566445e-01, 6.51564809e-01,\n",
       "        7.44287512e-01, 7.48109490e-01],\n",
       "       [2.65412369e-01, 5.11720593e-01, 4.96446442e-01, 5.74470856e-01,\n",
       "        4.17516204e-01, 1.86490964e-01, 3.81049461e-01, 5.16258580e-02,\n",
       "        8.31960465e-01, 2.77859518e-01],\n",
       "       [2.66791700e-01, 7.99771438e-01, 2.93185402e-01, 7.36608703e-03,\n",
       "        2.47448873e-01, 6.60016775e-01, 6.45389741e-01, 8.06134470e-01,\n",
       "        8.44688741e-01, 7.79812926e-01],\n",
       "       [1.61277442e-01, 2.88679202e-01, 8.46545905e-01, 4.87894416e-01,\n",
       "        9.49259998e-01, 3.90296201e-01, 3.24627063e-01, 7.09645723e-01,\n",
       "        4.60073527e-01, 4.70326635e-01],\n",
       "       [4.71050448e-01, 3.97201065e-01, 3.16029619e-01, 9.33685353e-01,\n",
       "        9.21429535e-01, 8.33867373e-01, 5.85837359e-02, 7.54497007e-02,\n",
       "        2.38591344e-01, 4.32413047e-01],\n",
       "       [4.81478449e-01, 5.41308669e-01, 7.06090766e-01, 5.80725614e-01,\n",
       "        2.01596002e-01, 4.00238275e-01, 8.04097780e-01, 8.30637181e-01,\n",
       "        2.44642463e-01, 6.09597560e-01],\n",
       "       [3.44162978e-01, 2.15449496e-01, 6.34669284e-01, 2.04896469e-01,\n",
       "        1.82154949e-01, 9.77976113e-01, 1.80087855e-01, 3.22185879e-01,\n",
       "        8.85948157e-01, 8.06346202e-02],\n",
       "       [2.84061705e-01, 6.36323939e-01, 9.64658121e-01, 8.49184222e-01,\n",
       "        6.94008659e-01, 3.23701274e-01, 8.48665063e-01, 4.12328213e-01,\n",
       "        6.25567518e-01, 4.90193171e-01],\n",
       "       [8.22613121e-01, 1.73358914e-01, 9.88066339e-01, 1.04183956e-02,\n",
       "        4.02223383e-01, 8.01767074e-01, 2.32878698e-01, 1.61355077e-01,\n",
       "        1.24412717e-01, 5.95137937e-01],\n",
       "       [9.09730559e-01, 4.89542398e-01, 8.85903527e-01, 6.94734008e-01,\n",
       "        6.18545650e-01, 4.27155703e-01, 7.30838573e-01, 8.21483493e-01,\n",
       "        6.42805683e-01, 1.39510387e-01],\n",
       "       [4.37921417e-01, 6.77797677e-01, 6.12166438e-01, 6.07424824e-01,\n",
       "        8.61676018e-01, 5.92214114e-01, 9.01482279e-01, 1.63916044e-01,\n",
       "        1.62688374e-01, 2.96360914e-01],\n",
       "       [3.89870488e-01, 3.75603378e-01, 3.62211377e-03, 3.10369429e-01,\n",
       "        4.06703275e-02, 6.26862987e-02, 8.48181251e-01, 4.71035925e-01,\n",
       "        4.71000405e-01, 1.78719219e-01],\n",
       "       [6.85721971e-01, 6.62642689e-01, 1.08870917e-01, 8.62291698e-01,\n",
       "        7.37176745e-01, 7.29567750e-01, 5.50812002e-01, 2.10761919e-01,\n",
       "        4.08769576e-01, 3.46006173e-01],\n",
       "       [5.24199633e-01, 7.02755750e-01, 1.79103818e-01, 8.82756610e-01,\n",
       "        9.28600642e-01, 8.96207092e-01, 1.07263683e-01, 2.15417212e-01,\n",
       "        1.52584416e-01, 1.83816766e-01],\n",
       "       [2.18992467e-01, 5.03121249e-01, 9.95824479e-01, 1.06654271e-01,\n",
       "        8.78247786e-01, 6.21009756e-02, 7.81093304e-01, 8.34603087e-01,\n",
       "        7.13529660e-01, 3.47027781e-03],\n",
       "       [4.07735270e-01, 2.05467555e-01, 1.95535123e-01, 7.38800662e-01,\n",
       "        4.58847666e-01, 6.71098991e-01, 7.58560256e-01, 4.33490536e-01,\n",
       "        6.12920720e-01, 5.60246917e-01],\n",
       "       [2.73660613e-01, 2.87513818e-01, 6.91918604e-01, 6.31750463e-01,\n",
       "        1.81125878e-01, 6.82096446e-01, 2.41947249e-01, 2.27187058e-01,\n",
       "        7.37790397e-01, 4.95378211e-01],\n",
       "       [2.74409459e-01, 7.57082666e-02, 9.27441134e-01, 1.35689004e-01,\n",
       "        1.64655132e-01, 5.65032511e-01, 6.89292658e-01, 9.50974770e-01,\n",
       "        2.49446224e-01, 1.57865181e-01],\n",
       "       [7.38424879e-01, 4.88601508e-01, 5.60084649e-02, 4.82905121e-02,\n",
       "        6.02636958e-01, 8.75451963e-01, 8.36530838e-01, 6.27342800e-01,\n",
       "        5.03418389e-01, 9.86267747e-01],\n",
       "       [1.09089575e-01, 3.61938632e-01, 8.59829923e-01, 9.64835418e-01,\n",
       "        8.49954601e-01, 1.38068353e-01, 4.41311916e-01, 7.30956252e-01,\n",
       "        3.33940648e-01, 3.44788350e-01],\n",
       "       [6.90471779e-01, 8.71014200e-01, 4.48491779e-01, 8.54715708e-01,\n",
       "        6.15040842e-01, 1.20895369e-01, 3.17789482e-01, 6.87111242e-01,\n",
       "        2.24176565e-01, 4.49506719e-02],\n",
       "       [2.15387323e-02, 2.48799619e-01, 2.82199646e-02, 3.49643074e-01,\n",
       "        8.86159389e-01, 3.44577660e-01, 5.00185453e-01, 4.75573722e-01,\n",
       "        4.76732493e-01, 9.24255262e-01],\n",
       "       [4.76013461e-01, 8.24897379e-01, 1.23334184e-01, 9.71434211e-01,\n",
       "        4.18272046e-01, 8.31965563e-01, 5.39717818e-01, 5.72222014e-01,\n",
       "        5.12392315e-01, 3.92784871e-01],\n",
       "       [1.12854517e-01, 2.11527242e-02, 6.81680528e-01, 3.30578649e-01,\n",
       "        2.22575945e-01, 2.97832703e-01, 8.20124135e-01, 9.15727896e-01,\n",
       "        1.91496364e-01, 3.12466267e-01],\n",
       "       [9.96290017e-01, 3.39815548e-01, 6.36718428e-01, 5.19630859e-01,\n",
       "        3.74160969e-01, 2.76477878e-01, 4.90841434e-01, 4.42180587e-01,\n",
       "        1.49252494e-01, 9.65196586e-01],\n",
       "       [6.63711652e-01, 1.32847663e-01, 2.65191095e-01, 4.26081237e-01,\n",
       "        9.73596147e-01, 9.96548822e-02, 2.85452052e-01, 8.13726055e-01,\n",
       "        1.42936127e-01, 9.89924138e-01],\n",
       "       [6.77134422e-01, 8.32160906e-01, 8.99588700e-01, 5.30620442e-01,\n",
       "        4.84224343e-01, 7.92451043e-01, 5.45112041e-01, 6.55192273e-01,\n",
       "        9.19169379e-01, 5.29033452e-01],\n",
       "       [4.47101137e-01, 4.32106742e-01, 4.47161014e-01, 7.46822703e-01,\n",
       "        9.10178613e-01, 6.34868012e-03, 5.23679222e-01, 3.72490453e-01,\n",
       "        5.19216964e-01, 2.90055560e-01],\n",
       "       [3.81612436e-01, 3.32205572e-02, 5.41681148e-01, 3.04843383e-01,\n",
       "        9.34024009e-01, 9.21615765e-01, 1.12945767e-01, 8.42739681e-01,\n",
       "        9.20465959e-01, 6.38434910e-01],\n",
       "       [5.22545873e-01, 7.54596203e-01, 2.13254172e-01, 8.22085620e-01,\n",
       "        4.12250721e-01, 7.98733923e-01, 5.20758981e-01, 5.63424782e-01,\n",
       "        4.93837651e-01, 6.59951595e-01],\n",
       "       [8.11127555e-01, 3.72531918e-01, 5.86552307e-01, 6.82188280e-01,\n",
       "        7.66067151e-01, 8.49134877e-01, 8.43846191e-01, 9.63839036e-01,\n",
       "        2.34067959e-01, 9.89402587e-01],\n",
       "       [4.92989317e-01, 9.86977875e-01, 8.40787596e-01, 7.71401986e-01,\n",
       "        7.78122967e-01, 7.39254537e-01, 9.52698154e-01, 5.52192932e-01,\n",
       "        2.15663636e-01, 6.16205403e-01],\n",
       "       [1.94506457e-01, 1.00906976e-01, 1.22391712e-02, 3.04877938e-01,\n",
       "        2.87965878e-01, 5.30769636e-01, 6.23055056e-01, 2.12533596e-01,\n",
       "        1.22726423e-01, 7.72723452e-01],\n",
       "       [6.68916226e-01, 6.09136247e-01, 5.87342117e-01, 3.53169270e-01,\n",
       "        5.19204030e-02, 2.26352268e-01, 3.36846748e-01, 2.10969480e-01,\n",
       "        9.15767276e-01, 4.50096549e-01],\n",
       "       [2.76446731e-01, 9.36937666e-01, 8.93927451e-01, 6.35966627e-01,\n",
       "        6.34355620e-01, 5.08043986e-01, 3.20094684e-01, 9.44142879e-01,\n",
       "        4.82172583e-01, 8.90890592e-01],\n",
       "       [7.84561553e-01, 3.08632850e-02, 1.96255342e-01, 7.62608628e-01,\n",
       "        3.57346014e-01, 6.40681785e-01, 5.59525821e-01, 1.26064854e-02,\n",
       "        3.59920008e-01, 2.22603440e-01],\n",
       "       [7.36053684e-01, 9.00518003e-01, 3.47420851e-01, 4.72692119e-01,\n",
       "        8.83746229e-01, 4.35464048e-01, 4.72632663e-02, 1.99713644e-01,\n",
       "        3.31183715e-01, 3.55776162e-01],\n",
       "       [9.95919694e-01, 8.20749049e-01, 6.05358604e-01, 5.25392175e-01,\n",
       "        8.61812250e-01, 6.72106853e-01, 7.86556879e-01, 3.18237348e-01,\n",
       "        2.39698389e-01, 7.35884429e-01],\n",
       "       [9.74182856e-01, 6.84456296e-01, 3.53510513e-01, 2.62531582e-01,\n",
       "        7.93714667e-01, 5.19358481e-02, 9.92697860e-01, 9.48857672e-01,\n",
       "        5.54442109e-02, 4.16730570e-01],\n",
       "       [6.17866342e-01, 2.11236621e-01, 2.43384140e-02, 5.34131683e-01,\n",
       "        9.82055941e-02, 1.75889936e-01, 9.70622804e-01, 8.86036246e-01,\n",
       "        3.34432719e-01, 8.62126040e-01],\n",
       "       [9.66743943e-01, 5.15135249e-01, 2.40853626e-01, 4.32062361e-01,\n",
       "        1.40298717e-01, 2.32104845e-01, 4.03169946e-01, 7.14548037e-01,\n",
       "        3.68011232e-01, 1.19212416e-01],\n",
       "       [5.90339219e-01, 9.38970963e-01, 9.40480007e-01, 4.77844083e-01,\n",
       "        4.99273480e-01, 3.24731703e-01, 2.09712032e-01, 9.28327119e-01,\n",
       "        5.58956267e-01, 9.31547425e-01],\n",
       "       [9.49320846e-01, 8.76688769e-01, 1.26040677e-01, 1.61518135e-01,\n",
       "        6.00488977e-01, 7.93682349e-01, 4.76593010e-01, 2.99910518e-01,\n",
       "        1.52792370e-01, 4.76230028e-01],\n",
       "       [3.20528509e-01, 6.20996430e-01, 7.22155142e-01, 4.14160626e-01,\n",
       "        5.82004485e-01, 6.96436261e-01, 1.45638084e-01, 1.21776155e-01,\n",
       "        5.60203370e-01, 3.03494703e-01],\n",
       "       [8.70642951e-01, 7.38799590e-01, 1.20048379e-02, 2.47901977e-01,\n",
       "        7.54588145e-02, 4.83055272e-01, 5.24561966e-01, 7.15092525e-01,\n",
       "        3.93745851e-01, 5.01827215e-01],\n",
       "       [9.37795771e-01, 4.26463987e-01, 1.05351946e-01, 5.80023842e-01,\n",
       "        6.21426682e-01, 2.22161972e-02, 9.13090922e-01, 2.19628611e-02,\n",
       "        3.97085587e-02, 7.04402396e-01],\n",
       "       [9.36125558e-02, 6.12380791e-02, 3.19825693e-01, 1.31774844e-01,\n",
       "        3.66187167e-02, 8.12301608e-01, 2.79303038e-01, 7.10107209e-01,\n",
       "        9.35643613e-01, 3.53349975e-01],\n",
       "       [5.16290503e-01, 1.66491813e-01, 8.99190282e-01, 4.36771673e-01,\n",
       "        1.15652194e-01, 5.28839102e-01, 9.20971033e-01, 8.80740254e-01,\n",
       "        6.50795817e-01, 7.19839548e-01],\n",
       "       [1.76831098e-01, 5.41072425e-01, 5.82317683e-01, 3.23916067e-01,\n",
       "        2.07508831e-01, 5.62799196e-01, 7.14199336e-01, 2.65063360e-01,\n",
       "        7.40860499e-01, 2.62236571e-01],\n",
       "       [2.39394862e-01, 7.79990594e-01, 4.70813646e-01, 4.43019747e-01,\n",
       "        1.53679921e-01, 1.03981374e-01, 2.32600552e-03, 7.81468922e-01,\n",
       "        2.44185847e-01, 1.50935119e-01],\n",
       "       [3.38746199e-01, 9.22081410e-02, 1.65763752e-01, 5.95136707e-01,\n",
       "        3.79981702e-01, 7.99214703e-01, 1.71497560e-01, 2.00369630e-01,\n",
       "        8.01762442e-01, 8.17215607e-01],\n",
       "       [1.42699513e-01, 3.51470871e-01, 1.67965855e-01, 6.92643353e-01,\n",
       "        4.18989554e-01, 5.02276289e-01, 5.53997604e-01, 7.08287325e-01,\n",
       "        4.00329903e-01, 2.56028037e-01],\n",
       "       [7.18912779e-01, 6.09976597e-01, 4.89913368e-01, 6.86198758e-01,\n",
       "        9.56357994e-01, 1.35777619e-01, 3.48778204e-01, 9.49267410e-01,\n",
       "        3.28662500e-01, 2.06024838e-01],\n",
       "       [9.54088396e-01, 8.28617396e-01, 9.80994431e-01, 9.04987135e-01,\n",
       "        4.08308992e-02, 5.80969733e-01, 3.58824277e-03, 7.48551010e-01,\n",
       "        7.83366148e-02, 9.52178873e-01],\n",
       "       [5.27221553e-01, 4.01182167e-01, 9.75991903e-01, 6.62214343e-01,\n",
       "        6.88069717e-01, 5.53611534e-01, 9.43990810e-01, 4.39083360e-02,\n",
       "        2.35405857e-01, 6.50179655e-01],\n",
       "       [1.43609535e-01, 5.23295716e-01, 1.90077036e-03, 5.34320373e-01,\n",
       "        7.37588260e-01, 6.21098230e-01, 6.26476063e-01, 1.96988603e-01,\n",
       "        2.28367003e-01, 6.01274120e-01],\n",
       "       [1.39134866e-01, 3.95549315e-01, 7.54776033e-01, 6.80134596e-01,\n",
       "        8.06919904e-01, 2.02168936e-02, 3.67346707e-01, 4.97641099e-01,\n",
       "        4.51660217e-01, 7.67990087e-02],\n",
       "       [4.41051531e-01, 9.03434277e-01, 4.18242280e-01, 1.72702030e-01,\n",
       "        7.64590154e-01, 3.01950454e-01, 8.52654574e-01, 4.82789004e-01,\n",
       "        9.57562695e-02, 2.68510041e-01],\n",
       "       [4.89768247e-01, 7.68847880e-01, 2.22852998e-01, 2.19607821e-01,\n",
       "        3.98878453e-01, 2.68841269e-02, 3.44603885e-01, 8.18339984e-01,\n",
       "        6.72142995e-01, 8.61677979e-01],\n",
       "       [3.49402019e-01, 7.52556549e-01, 2.91344790e-01, 8.58040404e-01,\n",
       "        4.39126853e-01, 7.87843822e-02, 2.32105862e-01, 9.15444065e-01,\n",
       "        2.69893468e-01, 7.15099351e-01],\n",
       "       [8.96765172e-01, 1.24542297e-01, 7.41907217e-01, 8.02165435e-01,\n",
       "        2.76492922e-01, 5.62238704e-03, 2.74566457e-01, 5.41440949e-01,\n",
       "        6.48261690e-01, 8.25273322e-01],\n",
       "       [6.29141510e-01, 5.09913333e-01, 8.16303074e-01, 9.23379649e-01,\n",
       "        2.28561005e-02, 9.71506085e-01, 6.18957323e-01, 3.30046781e-01,\n",
       "        6.43812038e-01, 3.15304519e-01],\n",
       "       [1.83779789e-01, 7.96985358e-01, 3.79714488e-01, 4.90675967e-01,\n",
       "        8.81365746e-01, 3.29536521e-01, 9.84643675e-01, 4.68147648e-01,\n",
       "        6.30330698e-01, 5.18704626e-01],\n",
       "       [9.39359959e-01, 9.38774757e-01, 9.46234173e-02, 4.25418634e-01,\n",
       "        4.13893815e-01, 8.34298000e-01, 7.63465703e-01, 7.70914526e-01,\n",
       "        9.16530807e-01, 3.38774879e-01],\n",
       "       [9.60096219e-01, 8.75528314e-01, 9.83867818e-01, 1.48016880e-01,\n",
       "        7.15701634e-01, 2.34854092e-01, 3.99630174e-01, 4.40199711e-01,\n",
       "        8.83172854e-01, 4.38475763e-01],\n",
       "       [9.86737604e-01, 1.77725180e-01, 1.08533132e-01, 8.61138008e-01,\n",
       "        2.38435286e-01, 1.29362697e-01, 6.19070093e-01, 8.37802164e-01,\n",
       "        6.87153503e-01, 9.45851696e-01],\n",
       "       [7.98791041e-05, 2.17384630e-01, 7.61024459e-01, 8.37281494e-01,\n",
       "        8.43489744e-01, 8.03827789e-01, 7.77728706e-01, 1.23534139e-01,\n",
       "        1.00324515e-01, 1.20169495e-01],\n",
       "       [5.65597722e-01, 2.54219839e-02, 8.25724330e-02, 9.83111689e-01,\n",
       "        5.44610973e-01, 6.85648225e-01, 6.70130884e-01, 4.28646395e-02,\n",
       "        2.49301408e-01, 1.55019080e-01],\n",
       "       [3.68224148e-01, 7.58231241e-01, 9.79261796e-01, 8.05901843e-01,\n",
       "        1.61035820e-01, 2.18298899e-01, 7.26431156e-01, 1.57682302e-01,\n",
       "        2.19110999e-01, 8.24526043e-01],\n",
       "       [7.64632357e-01, 6.15816879e-01, 1.85947606e-01, 5.61929298e-01,\n",
       "        9.63757726e-01, 2.59415275e-01, 9.44848155e-01, 7.76289999e-01,\n",
       "        5.53150576e-01, 5.71633703e-01],\n",
       "       [4.40808415e-01, 1.04571356e-01, 9.21527090e-01, 8.16268010e-01,\n",
       "        5.46863329e-01, 9.86176860e-02, 4.51438129e-01, 5.22463831e-01,\n",
       "        9.98760353e-01, 4.41049133e-01],\n",
       "       [7.81424592e-01, 8.31898508e-01, 2.03458758e-01, 6.37167582e-02,\n",
       "        2.73075626e-01, 3.75527154e-02, 8.63434229e-01, 4.30236068e-01,\n",
       "        7.11821187e-01, 5.80670917e-01],\n",
       "       [9.35366495e-01, 5.26482676e-01, 6.27339637e-01, 5.59557888e-01,\n",
       "        7.24965252e-01, 2.24626003e-01, 8.41384944e-01, 6.24677572e-01,\n",
       "        4.70305889e-01, 9.32536619e-01],\n",
       "       [7.52379714e-01, 8.38305642e-01, 7.39219983e-01, 6.54034010e-01,\n",
       "        4.42357382e-01, 7.63027327e-01, 9.58850339e-02, 7.91317036e-01,\n",
       "        4.60029341e-03, 2.34642365e-01],\n",
       "       [6.14535672e-01, 1.20601224e-01, 8.75676813e-01, 5.28780641e-02,\n",
       "        9.85643569e-01, 9.21014316e-01, 8.15562516e-01, 7.98257966e-02,\n",
       "        6.83072044e-01, 4.62714952e-01],\n",
       "       [7.16009892e-01, 7.93783965e-01, 2.97274480e-01, 4.65247816e-01,\n",
       "        4.15274890e-01, 1.86535272e-01, 7.87574389e-01, 9.82342897e-01,\n",
       "        3.90007448e-01, 4.22491552e-01]])"
      ]
     },
     "execution_count": 23,
     "metadata": {},
     "output_type": "execute_result"
    }
   ],
   "source": [
    "\n",
    "np.random.rand(100, 10)"
   ]
  },
  {
   "cell_type": "code",
   "execution_count": null,
   "metadata": {
    "collapsed": true
   },
   "outputs": [],
   "source": []
  },
  {
   "cell_type": "code",
   "execution_count": null,
   "metadata": {
    "collapsed": true
   },
   "outputs": [],
   "source": []
  },
  {
   "cell_type": "code",
   "execution_count": null,
   "metadata": {
    "collapsed": true
   },
   "outputs": [],
   "source": []
  },
  {
   "cell_type": "code",
   "execution_count": 4,
   "metadata": {
    "collapsed": false
   },
   "outputs": [
    {
     "name": "stdout",
     "output_type": "stream",
     "text": [
      "Populating the interactive namespace from numpy and matplotlib\n"
     ]
    }
   ],
   "source": [
    "%pylab inline\n",
    "from sklearn.ensemble import IsolationForest\n",
    "from sklearn.datasets import fetch_mldata\n",
    "mnist = fetch_mldata('MNIST original')"
   ]
  },
  {
   "cell_type": "code",
   "execution_count": 2,
   "metadata": {
    "collapsed": false
   },
   "outputs": [
    {
     "data": {
      "text/plain": [
       "(70000, 784)"
      ]
     },
     "execution_count": 2,
     "metadata": {},
     "output_type": "execute_result"
    }
   ],
   "source": [
    "mnist.data.shape"
   ]
  },
  {
   "cell_type": "code",
   "execution_count": 10,
   "metadata": {
    "collapsed": false
   },
   "outputs": [
    {
     "data": {
      "image/png": "[encoded data removed]",
      "text/plain": [
       "<matplotlib.figure.Figure at 0x7f9d9c9fb2e8>"
      ]
     },
     "metadata": {},
     "output_type": "display_data"
    }
   ],
   "source": [
    "fives = mnist.data[mnist.target==5]\n",
    "first_image = fives[0]\n",
    "first_image = np.array(first_image, dtype='float')\n",
    "pixels = first_image.reshape((28, 28))\n",
    "plt.imshow(pixels, cmap='gray')\n",
    "plt.show()"
   ]
  },
  {
   "cell_type": "code",
   "execution_count": 11,
   "metadata": {
    "collapsed": true
   },
   "outputs": [],
   "source": [
    "forest = IsolationForest()"
   ]
  },
  {
   "cell_type": "code",
   "execution_count": 13,
   "metadata": {
    "collapsed": false
   },
   "outputs": [
    {
     "data": {
      "text/plain": [
       "IsolationForest(bootstrap=False, contamination=0.1, max_features=1.0,\n",
       "        max_samples='auto', n_estimators=100, n_jobs=1, random_state=None,\n",
       "        verbose=0)"
      ]
     },
     "execution_count": 13,
     "metadata": {},
     "output_type": "execute_result"
    }
   ],
   "source": [
    "forest.fit(fives)"
   ]
  },
  {
   "cell_type": "code",
   "execution_count": null,
   "metadata": {
    "collapsed": true
   },
   "outputs": [],
   "source": [
    "isolation_scores = forest.predict(fives)\n",
    "order = sorted(range(len(isolation_scores)), key=lambda k: isolation_scores[k])"
   ]
  },
  {
   "cell_type": "code",
   "execution_count": 16,
   "metadata": {
    "collapsed": false
   },
   "outputs": [
    {
     "data": {
      "image/png": "[encoded data removed]",
      "text/plain": [
       "<matplotlib.figure.Figure at 0x7f9d9c710438>"
      ]
     },
     "metadata": {},
     "output_type": "display_data"
    },
    {
     "data": {
      "image/png": "[encoded data removed]",
      "text/plain": [
       "<matplotlib.figure.Figure at 0x7f9d9c7d0eb8>"
      ]
     },
     "metadata": {},
     "output_type": "display_data"
    },
    {
     "data": {
      "image/png": "[encoded data removed]",
      "text/plain": [
       "<matplotlib.figure.Figure at 0x7f9d9c9f6a20>"
      ]
     },
     "metadata": {},
     "output_type": "display_data"
    },
    {
     "data": {
      "image/png": "[encoded data removed]",
      "text/plain": [
       "<matplotlib.figure.Figure at 0x7f9d9c8f8550>"
      ]
     },
     "metadata": {},
     "output_type": "display_data"
    },
    {
     "data": {
      "image/png": "[encoded data removed]",
      "text/plain": [
       "<matplotlib.figure.Figure at 0x7f9d9c9f62e8>"
      ]
     },
     "metadata": {},
     "output_type": "display_data"
    },
    {
     "data": {
      "image/png": "[encoded data removed]",
      "text/plain": [
       "<matplotlib.figure.Figure at 0x7f9de5b12748>"
      ]
     },
     "metadata": {},
     "output_type": "display_data"
    },
    {
     "data": {
      "image/png": "[encoded data removed]",
      "text/plain": [
       "<matplotlib.figure.Figure at 0x7f9d9c936898>"
      ]
     },
     "metadata": {},
     "output_type": "display_data"
    },
    {
     "data": {
      "image/png": "[encoded data removed]",
      "text/plain": [
       "<matplotlib.figure.Figure at 0x7f9da76634a8>"
      ]
     },
     "metadata": {},
     "output_type": "display_data"
    },
    {
     "data": {
      "image/png": "[encoded data removed]",
      "text/plain": [
       "<matplotlib.figure.Figure at 0x7f9d9c923358>"
      ]
     },
     "metadata": {},
     "output_type": "display_data"
    },
    {
     "data": {
      "image/png": "[encoded data removed]",
      "text/plain": [
       "<matplotlib.figure.Figure at 0x7f9da759d4e0>"
      ]
     },
     "metadata": {},
     "output_type": "display_data"
    },
    {
     "data": {
      "image/png": "[encoded data removed]",
      "text/plain": [
       "<matplotlib.figure.Figure at 0x7f9da7608438>"
      ]
     },
     "metadata": {},
     "output_type": "display_data"
    },
    {
     "data": {
      "image/png": "[encoded data removed]",
      "text/plain": [
       "<matplotlib.figure.Figure at 0x7f9da756aef0>"
      ]
     },
     "metadata": {},
     "output_type": "display_data"
    },
    {
     "data": {
      "image/png": "[encoded data removed]",
      "text/plain": [
       "<matplotlib.figure.Figure at 0x7f9da7669550>"
      ]
     },
     "metadata": {},
     "output_type": "display_data"
    },
    {
     "data": {
      "image/png": "[encoded data removed]",
      "text/plain": [
       "<matplotlib.figure.Figure at 0x7f9d9c95f320>"
      ]
     },
     "metadata": {},
     "output_type": "display_data"
    },
    {
     "data": {
      "image/png": "[encoded data removed]",
      "text/plain": [
       "<matplotlib.figure.Figure at 0x7f9d9ca20358>"
      ]
     },
     "metadata": {},
     "output_type": "display_data"
    },
    {
     "data": {
      "image/png": "[encoded data removed]",
      "text/plain": [
       "<matplotlib.figure.Figure at 0x7f9da7500978>"
      ]
     },
     "metadata": {},
     "output_type": "display_data"
    },
    {
     "data": {
      "image/png": "[encoded data removed]",
      "text/plain": [
       "<matplotlib.figure.Figure at 0x7f9da7480080>"
      ]
     },
     "metadata": {},
     "output_type": "display_data"
    },
    {
     "data": {
      "image/png": "[encoded data removed]",
      "text/plain": [
       "<matplotlib.figure.Figure at 0x7f9d9c9ef780>"
      ]
     },
     "metadata": {},
     "output_type": "display_data"
    },
    {
     "data": {
      "image/png": "[encoded data removed]",
      "text/plain": [
       "<matplotlib.figure.Figure at 0x7f9d9c7645f8>"
      ]
     },
     "metadata": {},
     "output_type": "display_data"
    },
    {
     "data": {
      "image/png": "[encoded data removed]",
      "text/plain": [
       "<matplotlib.figure.Figure at 0x7f9da76dae80>"
      ]
     },
     "metadata": {},
     "output_type": "display_data"
    }
   ],
   "source": [
    "N=10\n",
    "bests = fives[order[-10:]]\n",
    "worsts = fives[order[:10]]\n",
    "for best in bests:\n",
    "    pixels = best.reshape((28, 28))\n",
    "    plt.imshow(pixels, cmap='gray')\n",
    "    plt.show()\n",
    "    \n",
    "for worst in worsts:\n",
    "    pixels = worst.reshape((28, 28))\n",
    "    plt.imshow(pixels, cmap='gray')\n",
    "    plt.show()"
   ]
  },
  {
   "cell_type": "code",
   "execution_count": 20,
   "metadata": {
    "collapsed": false
   },
   "outputs": [
    {
     "data": {
      "text/plain": [
       "{-1, 1}"
      ]
     },
     "execution_count": 20,
     "metadata": {},
     "output_type": "execute_result"
    }
   ],
   "source": [
    "set(isolation_scores)"
   ]
  },
  {
   "cell_type": "code",
   "execution_count": null,
   "metadata": {
    "collapsed": true
   },
   "outputs": [],
   "source": []
  }
 ],
 "metadata": {
  "kernelspec": {
   "display_name": "anaconda3-4.3.0",
   "language": "python",
   "name": "anaconda3-4.3.0"
  },
  "language_info": {
   "codemirror_mode": {
    "name": "ipython",
    "version": 3
   },
   "file_extension": ".py",
   "mimetype": "text/x-python",
   "name": "python",
   "nbconvert_exporter": "python",
   "pygments_lexer": "ipython3",
   "version": "3.6.0"
  }
 },
 "nbformat": 4,
 "nbformat_minor": 2
}
